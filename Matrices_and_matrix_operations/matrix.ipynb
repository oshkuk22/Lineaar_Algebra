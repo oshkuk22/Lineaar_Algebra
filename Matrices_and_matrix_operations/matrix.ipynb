{
 "cells": [
  {
   "cell_type": "markdown",
   "metadata": {},
   "source": [
    "__1.__ Установить, какие произведения матриц  𝐴𝐵  и  𝐵𝐴  определены, и найти размерности полученных матриц:\n",
    "\n",
    "а)  𝐴  — матрица  4×2 ,  𝐵  — матрица  4×2 ;\n",
    "\n",
    "б)  𝐴  — матрица  2×5 ,  𝐵  — матрица  5×3 ;\n",
    "\n",
    "в)  𝐴  — матрица  8×3 ,  𝐵  — матрица  3×8 ;\n",
    "\n",
    "г)  𝐴  — квадратная матрица  4×4 ,  𝐵  — квадратная матрица  4×4 ."
   ]
  },
  {
   "cell_type": "markdown",
   "metadata": {},
   "source": [
    "__Решение__\n",
    "\n",
    "а) произведения не пределены по определению\n",
    "\n",
    "б) Определено АВ размерность 2×3, ВА - не определенно\n",
    "\n",
    "в) Определено АВ и ВА размерность 8×8 и 3×3\n",
    "\n",
    "г) Определено АВ и ВА размерность 4×4 и 4×4"
   ]
  },
  {
   "cell_type": "markdown",
   "metadata": {},
   "source": [
    "__2.__ Найти сумму и произведение матриц $A=\\begin{pmatrix}\n",
    "1 & -2\\\\ \n",
    "3 & 0\n",
    "\\end{pmatrix}$ и $B=\\begin{pmatrix}\n",
    "4 & -1\\\\ \n",
    "0 & 5\n",
    "\\end{pmatrix}.$"
   ]
  },
  {
   "cell_type": "markdown",
   "metadata": {},
   "source": [
    "__Решение__:\n",
    "    \n",
    " $A+B = \\begin{pmatrix}\n",
    "1 & -2\\\\ \n",
    "3 & 0\n",
    "\\end{pmatrix}$+$\\begin{pmatrix}\n",
    "4 & -1\\\\ \n",
    "0 & 5\n",
    "\\end{pmatrix}$ = $\\begin{pmatrix}\n",
    "5 & -3\\\\ \n",
    "3 & 5\n",
    "\\end{pmatrix}$\n",
    "\n",
    " $A+B = \\begin{pmatrix}\n",
    "1 & -2\\\\ \n",
    "3 & 0\n",
    "\\end{pmatrix} \\cdot$ $\\begin{pmatrix}\n",
    "4 & -1\\\\ \n",
    "0 & 5\n",
    "\\end{pmatrix}$ = $\\begin{pmatrix}\n",
    "4 & -11\\\\ \n",
    "12 & -3\n",
    "\\end{pmatrix}$"
   ]
  },
  {
   "cell_type": "code",
   "execution_count": 8,
   "metadata": {},
   "outputs": [
    {
     "name": "stdout",
     "output_type": "stream",
     "text": [
      "[[ 5 -3]\n",
      " [ 3  5]]\n",
      "\n",
      "[[  4 -11]\n",
      " [ 12  -3]]\n"
     ]
    }
   ],
   "source": [
    "import numpy as np\n",
    "print(np.array([[1, -2],[3, 0]]) + np.array([[4, -1],[0, 5]]))\n",
    "print()\n",
    "print(np.dot(np.array([[1, -2],[3, 0]]),np.array([[4, -1],[0, 5]])))"
   ]
  },
  {
   "cell_type": "markdown",
   "metadata": {},
   "source": [
    "__3.__ Из закономерностей сложения и умножения матриц на число можно сделать вывод, что матрицы одного размера образуют линейное пространство. Вычислить линейную комбинацию $3A-2B+4C$ для матриц $A=\\begin{pmatrix}\n",
    "1 & 7\\\\ \n",
    "3 & -6\n",
    "\\end{pmatrix}$, $B=\\begin{pmatrix}\n",
    "0 & 5\\\\ \n",
    "2 & -1\n",
    "\\end{pmatrix}$, $C=\\begin{pmatrix}\n",
    "2 & -4\\\\ \n",
    "1 & 1\n",
    "\\end{pmatrix}.$"
   ]
  },
  {
   "cell_type": "markdown",
   "metadata": {},
   "source": [
    "__Решение__:"
   ]
  },
  {
   "cell_type": "markdown",
   "metadata": {},
   "source": [
    "$3A-2B+4C$ =$\\begin{pmatrix}\n",
    "3 & 21\\\\ \n",
    "9 & -18\n",
    "\\end{pmatrix}$ - $\\begin{pmatrix}\n",
    "0 & 10\\\\ \n",
    "4 & -2\n",
    "\\end{pmatrix}$ + $\\begin{pmatrix}\n",
    "8 & -16\\\\ \n",
    "4 & -4\n",
    "\\end{pmatrix}$ = $\\begin{pmatrix}\n",
    "11 & -5\\\\ \n",
    "9 & -12\n",
    "\\end{pmatrix}$"
   ]
  },
  {
   "cell_type": "code",
   "execution_count": 13,
   "metadata": {},
   "outputs": [
    {
     "name": "stdout",
     "output_type": "stream",
     "text": [
      "[[ 11  -5]\n",
      " [  9 -12]]\n"
     ]
    }
   ],
   "source": [
    "import numpy as np\n",
    "print(3 * np.array([[1, 7],[3, -6]]) - 2 * np.array([[0, 5],[2, -1]]) + 4 * np.array([[2, -4],[1, 1]]))"
   ]
  },
  {
   "cell_type": "markdown",
   "metadata": {},
   "source": [
    "__4.__ Дана матрица $A=\\begin{pmatrix}\n",
    "4 & 1\\\\ \n",
    "5 & -2\\\\ \n",
    "2 & 3\n",
    "\\end{pmatrix}$.\n",
    "Вычислить $AA^{T}$ и $A^{T}A$."
   ]
  },
  {
   "cell_type": "markdown",
   "metadata": {},
   "source": [
    "__Решение__:\n",
    "\n",
    "$ \\begin{pmatrix}\n",
    "4 & 1\\\\ \n",
    "5 & -2\\\\ \n",
    "2 & 3\n",
    "\\end{pmatrix} \\cdot$ \n",
    "$\\begin{pmatrix}\n",
    "4 & 5 & 2\\\\ \n",
    "1 & -2 & 3\\\\ \n",
    "\\end{pmatrix}$ = $\\begin{pmatrix}\n",
    "17 & 18 & 11\\\\ \n",
    "18 & 29 & 4\\\\ \n",
    "11 & 4 & 13\\\\ \n",
    "\\end{pmatrix}$\n",
    "\n",
    "$\\begin{pmatrix}\n",
    "4 & 5 & 2\\\\ \n",
    "1 & -2 & 3\\\\ \n",
    "\\end{pmatrix}  \\cdot$\n",
    "$ \\begin{pmatrix}\n",
    "4 & 1\\\\ \n",
    "5 & -2\\\\ \n",
    "2 & 3\n",
    "\\end{pmatrix}$ \n",
    " = $\\begin{pmatrix}\n",
    "45 & 0\\\\ \n",
    "0 & 14\\\\ \n",
    "\\end{pmatrix}$"
   ]
  },
  {
   "cell_type": "code",
   "execution_count": 12,
   "metadata": {},
   "outputs": [
    {
     "name": "stdout",
     "output_type": "stream",
     "text": [
      "[[17 18 11]\n",
      " [18 29  4]\n",
      " [11  4 13]]\n",
      "\n",
      "[[45  0]\n",
      " [ 0 14]]\n"
     ]
    }
   ],
   "source": [
    "import numpy as np\n",
    "A = np.array([[4, 1], [5, -2], [2, 3]])\n",
    "print(np.dot(A, A.T))\n",
    "print()\n",
    "print(np.dot(A.T, A))"
   ]
  },
  {
   "cell_type": "markdown",
   "metadata": {},
   "source": [
    "__5*__. Написать на Python функцию для перемножения двух произвольных матриц, не используя NumPy."
   ]
  },
  {
   "cell_type": "code",
   "execution_count": 151,
   "metadata": {},
   "outputs": [
    {
     "data": {
      "text/plain": [
       "[[11, 1], [2, 1]]"
      ]
     },
     "execution_count": 151,
     "metadata": {},
     "output_type": "execute_result"
    }
   ],
   "source": [
    "from collections import Counter\n",
    "\n",
    "\n",
    "A = [[1, 3], [1, 0]]\n",
    "B = [[2, 1], [3, 0]]\n",
    "\n",
    "\n",
    "\n",
    "def multiply_matrix(a, b):\n",
    "    rezult_first = []\n",
    "    rezult = []\n",
    "    c = []\n",
    "    prov_1 = []\n",
    "    prov_2 = []\n",
    "    for i in a:\n",
    "        prov_1.append(len(i))\n",
    "    for i in b:\n",
    "        prov_2.append(len(i))\n",
    "    if len(Counter(prov_1).most_common()) > 1:\n",
    "        print(f'Матрица {a} задана некорректно')\n",
    "    elif len(Counter(prov_2).most_common()) > 1:\n",
    "        print(f'Матрица {b} задана некорректно')\n",
    "    elif not a or not b:\n",
    "        print('Одна из матриц пустая')\n",
    "    elif len(a) != len(b[0]):\n",
    "        print('Умножение матриц таких размернстей не определено')\n",
    "    else:\n",
    "        for t, l in enumerate(a):\n",
    "            for i, j in enumerate(b):\n",
    "                for k, q in enumerate(l):\n",
    "                    c.append(q * b[k][i])\n",
    "                rezult_first.append(sum(c))\n",
    "                c = []\n",
    "            rezult.append(rezult_first)\n",
    "            \n",
    "            rezult_first = []\n",
    "            \n",
    "        return rezult \n",
    "                        \n",
    "multiply_matrix(A, B)       "
   ]
  },
  {
   "cell_type": "markdown",
   "metadata": {},
   "source": [
    "__1.__ Вычислить определитель:\n",
    "\n",
    "   a)\n",
    "\n",
    "$$\\begin{vmatrix}\n",
    "sinx & -cosx\\\\ \n",
    "cosx & sinx\n",
    "\\end{vmatrix};$$\n",
    "\n",
    "   б)\n",
    "    \n",
    "$$\\begin{vmatrix}\n",
    "4 & 2 & 3\\\\ \n",
    "0 & 5 & 1\\\\ \n",
    "0 & 0 & 9\n",
    "\\end{vmatrix};$$\n",
    "    \n",
    "   в)\n",
    "\n",
    "$$\\begin{vmatrix}\n",
    "1 & 2 & 3\\\\ \n",
    "4 & 5 & 6\\\\ \n",
    "7 & 8 & 9\n",
    "\\end{vmatrix}.$$"
   ]
  },
  {
   "cell_type": "markdown",
   "metadata": {},
   "source": [
    "__Решение__:\n",
    "\n",
    "   a)\n",
    "\n",
    "$$\\begin{vmatrix}\n",
    "sinx & -cosx\\\\ \n",
    "cosx & sinx\n",
    "\\end{vmatrix} = \\sin{x} \\cdot \\sin{x}  + \\cos{x} \\cdot \\cos{x} = 1$$\n",
    "\n",
    "   б)\n",
    "    \n",
    "$$\\begin{vmatrix}\n",
    "4 & 2 & 3\\\\ \n",
    "0 & 5 & 1\\\\ \n",
    "0 & 0 & 9\n",
    "\\end{vmatrix} = 4 \\cdot 5 \\cdot 9 + 0 \\cdot 2 \\cdot 9 + 0 \\cdot 0 \\cdot 3 - 3 \\cdot 5 \\cdot 0 - 9 \\cdot 2 \\cdot 0 - 4 \\cdot 1 \\cdot 0 = 180$$\n",
    "\n",
    "   в)\n",
    "\n",
    "$$\\begin{vmatrix}\n",
    "1 & 2 & 3\\\\ \n",
    "4 & 5 & 6\\\\ \n",
    "7 & 8 & 9\n",
    "\\end{vmatrix} = 1 \\cdot 5 \\cdot 9 + 7 \\cdot 2 \\cdot 6 + 3 \\cdot 4 \\cdot 8 - 3 \\cdot 5 \\cdot 7 - 9 \\cdot 2 \\cdot 4 - 1 \\cdot 6 \\cdot 8 = 0$$"
   ]
  },
  {
   "cell_type": "markdown",
   "metadata": {},
   "source": [
    "__2.__ Определитель матрицы $A$ равен $4$. Найти:\n",
    "\n",
    "   а) $det(A^{2})$;\n",
    "    \n",
    "   б) $det(A^{T})$;\n",
    "    \n",
    "   в) $det(2A)$."
   ]
  },
  {
   "cell_type": "markdown",
   "metadata": {},
   "source": [
    "__Решение__:\n",
    "\n",
    "а) По свойству определителля $det(A^{2}) = det(A) \\cdot det(A) = 4 \\cdot 4 = 16$\n",
    "\n",
    "б) По свойству определителля $det(A^{T}) = det(A) = 4$\n",
    "\n",
    "в) $det(2A) = 8$ определитель увеличивается в 4 раза в данном случаe, т.е значение определителя будет увеличиваться на коэффициент возведенный в квадрат "
   ]
  },
  {
   "cell_type": "markdown",
   "metadata": {},
   "source": [
    "__3.__  Доказать, что матрица\n",
    "\n",
    "$$\\begin{pmatrix}\n",
    "-2 & 7 & -3\\\\ \n",
    "4 & -14 & 6\\\\ \n",
    "-3 & 7 & 13\n",
    "\\end{pmatrix}$$\n",
    "   \n",
    "вырожденная."
   ]
  },
  {
   "cell_type": "markdown",
   "metadata": {},
   "source": [
    "__Решение__:\n",
    "\n",
    "$$\\det{\\begin{pmatrix}\n",
    "-2 & 7 & -3\\\\ \n",
    "4 & -14 & 6\\\\ \n",
    "-3 & 7 & 13\n",
    "\\end{pmatrix}} = -2 \\cdot -14 \\cdot 13 + -3 \\cdot 7 \\cdot 6 + -3 \\cdot 7 \\cdot 4 + 3\\cdot 3 \\cdot 14 - 4\\cdot 7 \\cdot 13 +  2\\cdot 6 \\cdot 7 = 0 \\Rightarrow$$ матрица вырожденная"
   ]
  },
  {
   "cell_type": "markdown",
   "metadata": {},
   "source": [
    "__4.__ Найти ранг матрицы:\n",
    "\n",
    "   а) $\\begin{pmatrix}\n",
    "1 & 2 & 3\\\\ \n",
    "1 & 1 & 1\\\\ \n",
    "2 & 3 & 4\n",
    "\\end{pmatrix};$\n",
    "\n",
    "   б) $\\begin{pmatrix}\n",
    "0 & 0 & 2 & 1\\\\ \n",
    "0 & 0 & 2 & 2\\\\ \n",
    "0 & 0 & 4 & 3\\\\ \n",
    "2 & 3 & 5 & 6\n",
    "\\end{pmatrix}.$"
   ]
  },
  {
   "cell_type": "markdown",
   "metadata": {},
   "source": [
    "__Решение__:\n",
    "    \n",
    "   а) $\\begin{pmatrix}\n",
    "1 & 2 & 3\\\\ \n",
    "1 & 1 & 1\\\\ \n",
    "2 & 3 & 4\n",
    "\\end{pmatrix} \\sim \\begin{pmatrix}\n",
    "1 & 2 & 3\\\\ \n",
    "1 & 1 & 1\\\\ \n",
    "0 & 1 & 2\n",
    "\\end{pmatrix} \\sim \\begin{pmatrix}\n",
    "1 & 2 & 3\\\\ \n",
    "0 & -1 & -2\\\\ \n",
    "0 & 1 & 2\n",
    "\\end{pmatrix} \\sim \\begin{pmatrix}\n",
    "1 & 2 & 3\\\\ \n",
    "0 & -1 & -2\\\\ \n",
    "0 & 0 & 0\n",
    "\\end{pmatrix} \\Rightarrow$ ранг равен 2\n",
    "\n",
    "   б) $\\begin{pmatrix}\n",
    "0 & 0 & 2 & 1\\\\ \n",
    "0 & 0 & 2 & 2\\\\ \n",
    "0 & 0 & 4 & 3\\\\ \n",
    "2 & 3 & 5 & 6\n",
    "\\end{pmatrix} \\sim \\begin{pmatrix}\n",
    "0 & 0 & 2 & 1\\\\ \n",
    "0 & 0 & 2 & 2\\\\ \n",
    "0 & 0 & -2 & -1\\\\ \n",
    "2 & 3 & 5 & 6\n",
    "\\end{pmatrix} \\begin{pmatrix}\n",
    "0 & 0 & 0 & 0\\\\ \n",
    "0 & 0 & 2 & 2\\\\ \n",
    "0 & 0 & -2 & -1\\\\ \n",
    "2 & 3 & 5 & 6\n",
    "\\end{pmatrix}\\Rightarrow$ ранг равен 3"
   ]
  },
  {
   "cell_type": "code",
   "execution_count": null,
   "metadata": {},
   "outputs": [],
   "source": []
  }
 ],
 "metadata": {
  "kernelspec": {
   "display_name": "Python 3",
   "language": "python",
   "name": "python3"
  },
  "language_info": {
   "codemirror_mode": {
    "name": "ipython",
    "version": 3
   },
   "file_extension": ".py",
   "mimetype": "text/x-python",
   "name": "python",
   "nbconvert_exporter": "python",
   "pygments_lexer": "ipython3",
   "version": "3.7.6"
  }
 },
 "nbformat": 4,
 "nbformat_minor": 4
}
